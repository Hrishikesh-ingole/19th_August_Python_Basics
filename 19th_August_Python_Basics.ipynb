{
 "cells": [
  {
   "cell_type": "code",
   "execution_count": 33,
   "id": "1535afa5-e72f-4144-8fd4-daddfd2cc785",
   "metadata": {},
   "outputs": [],
   "source": [
    "#TOPIC: Python Basics Variable"
   ]
  },
  {
   "cell_type": "code",
   "execution_count": 97,
   "id": "84256141-604d-45c9-ad2e-2a9db5c8c53f",
   "metadata": {},
   "outputs": [
    {
     "name": "stdout",
     "output_type": "stream",
     "text": [
      "Before swapping value of x & Y were  2  &  3\n",
      "After swapping value of x & Y are  3  &  2\n"
     ]
    }
   ],
   "source": [
    "''' 1. Declare two variables, `x` and `y`, and assign them integer values. Swap the\n",
    "values of these variables without using any temporary variable. '''\n",
    "\n",
    "x = 2     # predefined value of x\n",
    "y = 3     # predefined value of x\n",
    "print('Before swapping value of x & Y were ', x ,' & ',y)\n",
    "(x,y)=(y,x)   # swapping\n",
    "print('After swapping value of x & Y are ', x ,' & ',y) #output\n",
    "\n",
    "# In above question i have used the one line expression method of swapping in python.\n"
   ]
  },
  {
   "cell_type": "code",
   "execution_count": 98,
   "id": "129b8e5e-9b40-4af8-941d-671f6d774afa",
   "metadata": {
    "tags": []
   },
   "outputs": [
    {
     "name": "stdin",
     "output_type": "stream",
     "text": [
      "Enter the length of triangle :  3.8\n",
      "Enter the width of triangle :  5.5\n"
     ]
    },
    {
     "name": "stdout",
     "output_type": "stream",
     "text": [
      "Area of triangle is :  10.45\n"
     ]
    }
   ],
   "source": [
    "''' 2. Create a program that calculates the area of a rectangle. Take the length and\n",
    "width as inputs from the user and store them in variables. Calculate and\n",
    "display the area.'''\n",
    "\n",
    "length = float(input('Enter the length of triangle : '))    #Taken input of length from user\n",
    "width = float(input('Enter the width of triangle : '))      #Taken input of width from user\n",
    "Area_of_Triangle = 0.5 * length * width                \n",
    "print('Area of triangle is : ', Area_of_Triangle)           #output\n",
    "\n",
    "\n",
    "# note :-  i have used float as datatype for input as the measurements can be in decimal value.\n"
   ]
  },
  {
   "cell_type": "code",
   "execution_count": 99,
   "id": "d8445f7b-3c99-4f4e-8512-e2c6220ad1c4",
   "metadata": {},
   "outputs": [
    {
     "name": "stdin",
     "output_type": "stream",
     "text": [
      "Enter temperature in degree Celsius :  345.34\n"
     ]
    },
    {
     "name": "stdout",
     "output_type": "stream",
     "text": [
      "Temperature in degree Fahrenheit is :  653.612\n"
     ]
    }
   ],
   "source": [
    "''' 3. Write a Python program that converts temperatures from Celsius to\n",
    "Fahrenheit. Take the temperature in Celsius as input, store it in a variable,\n",
    "convert it to Fahrenheit, and display the result. '''\n",
    "\n",
    "\n",
    "temperature_in_celsius = float(input('Enter temperature in degree Celsius : ')) # take input of temperature in degree Celsius\n",
    "tempreature_in_fahrenheit =  (temperature_in_celsius * (9/5)) + 32  # Formula for convertion\n",
    "print('Temperature in degree Fahrenheit is : ', tempreature_in_fahrenheit) #output\n",
    "\n",
    "\n",
    "# note :-  i have used float as datatype for input as the measurements can be in decimal value.\n"
   ]
  },
  {
   "cell_type": "code",
   "execution_count": 32,
   "id": "099b3cc4-e19c-4584-b997-ff0dfd1d484a",
   "metadata": {},
   "outputs": [],
   "source": [
    "#TOPIC: String Based Questions"
   ]
  },
  {
   "cell_type": "code",
   "execution_count": 100,
   "id": "dc5a681c-80d0-4aa2-b13a-b53885dd96a8",
   "metadata": {},
   "outputs": [
    {
     "name": "stdin",
     "output_type": "stream",
     "text": [
      "Enter anything :  PWSKILLS\n"
     ]
    },
    {
     "name": "stdout",
     "output_type": "stream",
     "text": [
      "length of a :  8\n"
     ]
    }
   ],
   "source": [
    "''' 1. Write a Python program that takes a string as input and prints the length of\n",
    "the string.'''\n",
    "\n",
    "a = str(input('Enter anything : ')) #taken input from user in string format\n",
    "Length_of_a = len(a)                #using len() which is predefined funnction of python for calculating length of string.\n",
    "print('length of a : ',Length_of_a) #output"
   ]
  },
  {
   "cell_type": "code",
   "execution_count": 53,
   "id": "a0b3b3b5-792a-4af3-8d02-fd8ad0380931",
   "metadata": {},
   "outputs": [
    {
     "name": "stdin",
     "output_type": "stream",
     "text": [
      "Enter any sentence :  Create a program that takes a sentence from the user and counts the number of vowels\n"
     ]
    },
    {
     "name": "stdout",
     "output_type": "stream",
     "text": [
      "number of vovels in sentence are :  26\n"
     ]
    }
   ],
   "source": [
    "''' 2. Create a program that takes a sentence from the user and counts the number\n",
    "of vowels (a, e, i, o, u) in the string.'''\n",
    "\n",
    "sentence = str(input('Enter any sentence : '))   # input taken from user\n",
    "vovels = ('a','e','i','o','u','A','E','I','O','U') # created a new tuple with all the vowels\n",
    "new_word = []        # used this veriable for blank list to add the vovels from the sentence                           \n",
    "for x in sentence :  # using the interations finding the vovels in sentence\n",
    "    if x in vovels:  # checks if the value of x is part of vovels\n",
    "        new_word.append(x) # adding the found vovels in the new_word list\n",
    "\n",
    "print('number of vovels in sentence are : ', len(new_word)) #output - calculating the length of found vovels after iteration.\n",
    "    "
   ]
  },
  {
   "cell_type": "code",
   "execution_count": 77,
   "id": "e0172691-c092-4206-8fe7-261db4f4989d",
   "metadata": {},
   "outputs": [
    {
     "name": "stdout",
     "output_type": "stream",
     "text": [
      "SLLIKSWP\n",
      "SLLIKSWP\n",
      "SLLIKSWP\n",
      "SLLIKSWP\n"
     ]
    }
   ],
   "source": [
    "''' 3. Given a string, reverse the order of characters using string slicing and print\n",
    "the reversed string.'''\n",
    "\n",
    "string_1 = 'PWSKILLS'   # predefined string\n",
    "new_string =  string_1 [::-1] #first way -- only defined the jump operator for slicing where -1 indicates the jump in reverse direction.\n",
    "print(new_string)\n",
    "new_string =  string_1 [-1::-1] #second way -- defined the start & -1 jump operator for slicing.\n",
    "print(new_string)\n",
    "new_string =  string_1 [9::-1] # third way -- defined the start & -1 jump operator for slicing.\n",
    "print(new_string)\n",
    "new_string =  string_1 [9:-11:-1] # fourth way -- defined the start,stop & -1 jump operator for slicing.\n",
    "print(new_string)\n",
    "\n",
    "# note- above are the multiple ways to write the code and get the same expected o/p."
   ]
  },
  {
   "cell_type": "code",
   "execution_count": 101,
   "id": "c2a166c0-b681-47bd-88d3-6658be743ef6",
   "metadata": {},
   "outputs": [
    {
     "name": "stdin",
     "output_type": "stream",
     "text": [
      "Eenter anything in palindrome form :  123454321\n"
     ]
    },
    {
     "name": "stdout",
     "output_type": "stream",
     "text": [
      "yes, the string is palindrome\n"
     ]
    }
   ],
   "source": [
    "''' 4. Write a program that takes a string as input and checks if it is a palindrome\n",
    "(reads the same forwards and backwards).'''\n",
    "\n",
    "string_3 = str(input('Eenter anything in palindrome form : ')) # input taken as string\n",
    "string_4 = string_3[::-1]  #reversed the string using slicing \n",
    "if string_3 == string_4: # conditional to check if string is palindrome or not \n",
    "    print('yes, the string is palindrome') #op \n",
    "else :\n",
    "    print('No, the string is not palindrome') #op \n"
   ]
  },
  {
   "cell_type": "code",
   "execution_count": 103,
   "id": "7b8e368b-ac78-40f5-9409-8232b897ae5a",
   "metadata": {},
   "outputs": [
    {
     "name": "stdin",
     "output_type": "stream",
     "text": [
      "Enter any sentence :  Print the modified string without spaces\n"
     ]
    },
    {
     "name": "stdout",
     "output_type": "stream",
     "text": [
      "Printthemodifiedstringwithoutspaces"
     ]
    }
   ],
   "source": [
    "''' 5. Create a program that takes a string as input and removes all the spaces from\n",
    "it. Print the modified string without spaces.'''\n",
    "\n",
    "string_5 = str(input('Enter any sentence : ')) # input taken as string\n",
    "for c in string_5: # using itteration for checking every single value in string\n",
    "    if c == ' ': # condition to check the space,if availaible pass\n",
    "        pass \n",
    "    else :\n",
    "        print(c, end='')  # else print but as end is 0, print the next output beside the first.\n",
    "    "
   ]
  },
  {
   "cell_type": "code",
   "execution_count": null,
   "id": "b943d36b-9c45-4c07-8c46-cfddd36620ca",
   "metadata": {},
   "outputs": [],
   "source": []
  }
 ],
 "metadata": {
  "kernelspec": {
   "display_name": "Python 3 (ipykernel)",
   "language": "python",
   "name": "python3"
  },
  "language_info": {
   "codemirror_mode": {
    "name": "ipython",
    "version": 3
   },
   "file_extension": ".py",
   "mimetype": "text/x-python",
   "name": "python",
   "nbconvert_exporter": "python",
   "pygments_lexer": "ipython3",
   "version": "3.10.8"
  }
 },
 "nbformat": 4,
 "nbformat_minor": 5
}
